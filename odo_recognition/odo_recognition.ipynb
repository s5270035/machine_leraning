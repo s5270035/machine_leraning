{
 "cells": [
  {
   "cell_type": "code",
   "execution_count": 18,
   "id": "2e75acf9",
   "metadata": {},
   "outputs": [],
   "source": [
    "import pandas as pd\n",
    "import os\n",
    "from os import walk"
   ]
  },
  {
   "cell_type": "code",
   "execution_count": 38,
   "id": "fe0f9a8a",
   "metadata": {},
   "outputs": [],
   "source": [
    "def gen_path(path, name):\n",
    "    f = []\n",
    "    for (dirpath, dirnames, filenames) in walk(path):\n",
    "        filenames = [ file for file in filenames if file.endswith( ('.png','.jpg'))] \n",
    "        for file in filenames:\n",
    "            f.append(os.path.join(f\"../{path}\", file))\n",
    "        break\n",
    "    with open(name, \"w\") as fp:\n",
    "        fp.write('\\n'.join(f))"
   ]
  },
  {
   "cell_type": "code",
   "execution_count": 39,
   "id": "05961d89",
   "metadata": {},
   "outputs": [],
   "source": [
    "gen_path(\"dataset/validate\", \"valid.txt\")\n",
    "gen_path(\"dataset/training\", \"training.txt\")"
   ]
  }
 ],
 "metadata": {
  "kernelspec": {
   "display_name": "Python 3 (ipykernel)",
   "language": "python",
   "name": "python3"
  },
  "language_info": {
   "codemirror_mode": {
    "name": "ipython",
    "version": 3
   },
   "file_extension": ".py",
   "mimetype": "text/x-python",
   "name": "python",
   "nbconvert_exporter": "python",
   "pygments_lexer": "ipython3",
   "version": "3.8.6"
  }
 },
 "nbformat": 4,
 "nbformat_minor": 5
}
